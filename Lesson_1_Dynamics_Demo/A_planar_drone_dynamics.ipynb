{
  "cells": [
    {
      "cell_type": "markdown",
      "id": "1f904b9b-def1-4830-bf0d-47c68d6e4bf1",
      "metadata": {
        "id": "1f904b9b-def1-4830-bf0d-47c68d6e4bf1"
      },
      "source": [
        "# Standard imports"
      ]
    },
    {
      "cell_type": "code",
      "execution_count": 5,
      "id": "a969f402-9690-4a2a-af50-b0873f1a8c22",
      "metadata": {
        "id": "a969f402-9690-4a2a-af50-b0873f1a8c22"
      },
      "outputs": [],
      "source": [
        "import numpy as np\n",
        "import matplotlib.pyplot as plt\n",
        "import pandas\n",
        "from scipy.integrate import odeint"
      ]
    },
    {
      "cell_type": "markdown",
      "id": "74174dd9-70d5-41f1-a545-7f7d0821f7f2",
      "metadata": {
        "id": "74174dd9-70d5-41f1-a545-7f7d0821f7f2"
      },
      "source": [
        "# Custom imports that are either local or pulled from github"
      ]
    },
    {
      "cell_type": "code",
      "execution_count": 6,
      "id": "e89545f0-dc89-487f-b2ef-7dc014772b94",
      "metadata": {
        "id": "e89545f0-dc89-487f-b2ef-7dc014772b94"
      },
      "outputs": [],
      "source": [
        "import sys\n",
        "import requests\n",
        "import importlib\n",
        "\n",
        "def import_local_or_github(package_name, function_name=None, directory=None, giturl=None):\n",
        "    # Import functions directly from github\n",
        "    # Important: note that we use raw.githubusercontent.com, not github.com\n",
        "\n",
        "    try: # to find the file locally\n",
        "        if directory is not None:\n",
        "            if directory not in sys.path:\n",
        "                sys.path.append(directory)\n",
        "\n",
        "        package = importlib.import_module(package_name)\n",
        "        if function_name is not None:\n",
        "            function = getattr(package, function_name)\n",
        "            return function\n",
        "        else:\n",
        "            return package\n",
        "\n",
        "    except: # get the file from github\n",
        "        if giturl is None:\n",
        "            giturl = 'https://raw.githubusercontent.com/florisvb/Nonlinear_and_Data_Driven_Estimation/main/Utility/' + str(package_name) + '.py'\n",
        "\n",
        "        r = requests.get(giturl)\n",
        "        print('Fetching from: ')\n",
        "        print(r)\n",
        "\n",
        "        # Store the file to the colab working directory\n",
        "        with open(package_name+'.py', 'w') as f:\n",
        "            f.write(r.text)\n",
        "        f.close()\n",
        "\n",
        "        # import the function we want from that file\n",
        "        package = importlib.import_module(package_name)\n",
        "        if function_name is not None:\n",
        "            function = package.__get_attr__(function_name)\n",
        "            return function\n",
        "        else:\n",
        "            return package\n",
        "\n",
        "plot_tme = import_local_or_github('plot_utility', 'plot_tme', directory='../Utility')"
      ]
    },
    {
      "cell_type": "markdown",
      "id": "683faff7-aa4b-4eca-aa96-d86198d54bd4",
      "metadata": {
        "id": "683faff7-aa4b-4eca-aa96-d86198d54bd4"
      },
      "source": [
        "# Imports related to model predictive control and pybounds"
      ]
    },
    {
      "cell_type": "code",
      "execution_count": 7,
      "id": "13e2b1b4-19ec-4575-a3c2-c007698c41c2",
      "metadata": {
        "id": "13e2b1b4-19ec-4575-a3c2-c007698c41c2",
        "outputId": "0f2e98c8-db09-4fda-fefb-c0bc4361bcf2",
        "colab": {
          "base_uri": "https://localhost:8080/"
        }
      },
      "outputs": [
        {
          "output_type": "stream",
          "name": "stdout",
          "text": [
            "Collecting casadi\n",
            "  Downloading casadi-3.7.1-cp312-none-manylinux2014_x86_64.whl.metadata (2.2 kB)\n",
            "Requirement already satisfied: numpy in /usr/local/lib/python3.12/dist-packages (from casadi) (2.0.2)\n",
            "Downloading casadi-3.7.1-cp312-none-manylinux2014_x86_64.whl (75.6 MB)\n",
            "\u001b[2K   \u001b[90m━━━━━━━━━━━━━━━━━━━━━━━━━━━━━━━━━━━━━━━━\u001b[0m \u001b[32m75.6/75.6 MB\u001b[0m \u001b[31m10.1 MB/s\u001b[0m eta \u001b[36m0:00:00\u001b[0m\n",
            "\u001b[?25hInstalling collected packages: casadi\n",
            "Successfully installed casadi-3.7.1\n",
            "Collecting do_mpc\n",
            "  Downloading do_mpc-5.0.1-py3-none-any.whl.metadata (3.5 kB)\n",
            "Requirement already satisfied: casadi>=3.6.0 in /usr/local/lib/python3.12/dist-packages (from do_mpc) (3.7.1)\n",
            "Requirement already satisfied: scipy in /usr/local/lib/python3.12/dist-packages (from do_mpc) (1.16.1)\n",
            "Requirement already satisfied: numpy in /usr/local/lib/python3.12/dist-packages (from do_mpc) (2.0.2)\n",
            "Requirement already satisfied: matplotlib in /usr/local/lib/python3.12/dist-packages (from do_mpc) (3.10.0)\n",
            "Requirement already satisfied: pandas in /usr/local/lib/python3.12/dist-packages (from do_mpc) (2.2.2)\n",
            "Requirement already satisfied: torch>2.0.0 in /usr/local/lib/python3.12/dist-packages (from do_mpc) (2.8.0+cu126)\n",
            "Requirement already satisfied: filelock in /usr/local/lib/python3.12/dist-packages (from torch>2.0.0->do_mpc) (3.19.1)\n",
            "Requirement already satisfied: typing-extensions>=4.10.0 in /usr/local/lib/python3.12/dist-packages (from torch>2.0.0->do_mpc) (4.15.0)\n",
            "Requirement already satisfied: setuptools in /usr/local/lib/python3.12/dist-packages (from torch>2.0.0->do_mpc) (75.2.0)\n",
            "Requirement already satisfied: sympy>=1.13.3 in /usr/local/lib/python3.12/dist-packages (from torch>2.0.0->do_mpc) (1.13.3)\n",
            "Requirement already satisfied: networkx in /usr/local/lib/python3.12/dist-packages (from torch>2.0.0->do_mpc) (3.5)\n",
            "Requirement already satisfied: jinja2 in /usr/local/lib/python3.12/dist-packages (from torch>2.0.0->do_mpc) (3.1.6)\n",
            "Requirement already satisfied: fsspec in /usr/local/lib/python3.12/dist-packages (from torch>2.0.0->do_mpc) (2025.3.0)\n",
            "Requirement already satisfied: nvidia-cuda-nvrtc-cu12==12.6.77 in /usr/local/lib/python3.12/dist-packages (from torch>2.0.0->do_mpc) (12.6.77)\n",
            "Requirement already satisfied: nvidia-cuda-runtime-cu12==12.6.77 in /usr/local/lib/python3.12/dist-packages (from torch>2.0.0->do_mpc) (12.6.77)\n",
            "Requirement already satisfied: nvidia-cuda-cupti-cu12==12.6.80 in /usr/local/lib/python3.12/dist-packages (from torch>2.0.0->do_mpc) (12.6.80)\n",
            "Requirement already satisfied: nvidia-cudnn-cu12==9.10.2.21 in /usr/local/lib/python3.12/dist-packages (from torch>2.0.0->do_mpc) (9.10.2.21)\n",
            "Requirement already satisfied: nvidia-cublas-cu12==12.6.4.1 in /usr/local/lib/python3.12/dist-packages (from torch>2.0.0->do_mpc) (12.6.4.1)\n",
            "Requirement already satisfied: nvidia-cufft-cu12==11.3.0.4 in /usr/local/lib/python3.12/dist-packages (from torch>2.0.0->do_mpc) (11.3.0.4)\n",
            "Requirement already satisfied: nvidia-curand-cu12==10.3.7.77 in /usr/local/lib/python3.12/dist-packages (from torch>2.0.0->do_mpc) (10.3.7.77)\n",
            "Requirement already satisfied: nvidia-cusolver-cu12==11.7.1.2 in /usr/local/lib/python3.12/dist-packages (from torch>2.0.0->do_mpc) (11.7.1.2)\n",
            "Requirement already satisfied: nvidia-cusparse-cu12==12.5.4.2 in /usr/local/lib/python3.12/dist-packages (from torch>2.0.0->do_mpc) (12.5.4.2)\n",
            "Requirement already satisfied: nvidia-cusparselt-cu12==0.7.1 in /usr/local/lib/python3.12/dist-packages (from torch>2.0.0->do_mpc) (0.7.1)\n",
            "Requirement already satisfied: nvidia-nccl-cu12==2.27.3 in /usr/local/lib/python3.12/dist-packages (from torch>2.0.0->do_mpc) (2.27.3)\n",
            "Requirement already satisfied: nvidia-nvtx-cu12==12.6.77 in /usr/local/lib/python3.12/dist-packages (from torch>2.0.0->do_mpc) (12.6.77)\n",
            "Requirement already satisfied: nvidia-nvjitlink-cu12==12.6.85 in /usr/local/lib/python3.12/dist-packages (from torch>2.0.0->do_mpc) (12.6.85)\n",
            "Requirement already satisfied: nvidia-cufile-cu12==1.11.1.6 in /usr/local/lib/python3.12/dist-packages (from torch>2.0.0->do_mpc) (1.11.1.6)\n",
            "Requirement already satisfied: triton==3.4.0 in /usr/local/lib/python3.12/dist-packages (from torch>2.0.0->do_mpc) (3.4.0)\n",
            "Requirement already satisfied: contourpy>=1.0.1 in /usr/local/lib/python3.12/dist-packages (from matplotlib->do_mpc) (1.3.3)\n",
            "Requirement already satisfied: cycler>=0.10 in /usr/local/lib/python3.12/dist-packages (from matplotlib->do_mpc) (0.12.1)\n",
            "Requirement already satisfied: fonttools>=4.22.0 in /usr/local/lib/python3.12/dist-packages (from matplotlib->do_mpc) (4.59.1)\n",
            "Requirement already satisfied: kiwisolver>=1.3.1 in /usr/local/lib/python3.12/dist-packages (from matplotlib->do_mpc) (1.4.9)\n",
            "Requirement already satisfied: packaging>=20.0 in /usr/local/lib/python3.12/dist-packages (from matplotlib->do_mpc) (25.0)\n",
            "Requirement already satisfied: pillow>=8 in /usr/local/lib/python3.12/dist-packages (from matplotlib->do_mpc) (11.3.0)\n",
            "Requirement already satisfied: pyparsing>=2.3.1 in /usr/local/lib/python3.12/dist-packages (from matplotlib->do_mpc) (3.2.3)\n",
            "Requirement already satisfied: python-dateutil>=2.7 in /usr/local/lib/python3.12/dist-packages (from matplotlib->do_mpc) (2.9.0.post0)\n",
            "Requirement already satisfied: pytz>=2020.1 in /usr/local/lib/python3.12/dist-packages (from pandas->do_mpc) (2025.2)\n",
            "Requirement already satisfied: tzdata>=2022.7 in /usr/local/lib/python3.12/dist-packages (from pandas->do_mpc) (2025.2)\n",
            "Requirement already satisfied: six>=1.5 in /usr/local/lib/python3.12/dist-packages (from python-dateutil>=2.7->matplotlib->do_mpc) (1.17.0)\n",
            "Requirement already satisfied: mpmath<1.4,>=1.1.0 in /usr/local/lib/python3.12/dist-packages (from sympy>=1.13.3->torch>2.0.0->do_mpc) (1.3.0)\n",
            "Requirement already satisfied: MarkupSafe>=2.0 in /usr/local/lib/python3.12/dist-packages (from jinja2->torch>2.0.0->do_mpc) (3.0.2)\n",
            "Downloading do_mpc-5.0.1-py3-none-any.whl (162 kB)\n",
            "\u001b[2K   \u001b[90m━━━━━━━━━━━━━━━━━━━━━━━━━━━━━━━━━━━━━━━━\u001b[0m \u001b[32m162.9/162.9 kB\u001b[0m \u001b[31m2.7 MB/s\u001b[0m eta \u001b[36m0:00:00\u001b[0m\n",
            "\u001b[?25hInstalling collected packages: do_mpc\n",
            "Successfully installed do_mpc-5.0.1\n"
          ]
        },
        {
          "output_type": "stream",
          "name": "stderr",
          "text": [
            "/usr/local/lib/python3.12/dist-packages/do_mpc/sysid/__init__.py:15: UserWarning: The ONNX feature is not available. Please install the full version of do-mpc to access this feature.\n",
            "  warnings.warn('The ONNX feature is not available. Please install the full version of do-mpc to access this feature.')\n",
            "/usr/local/lib/python3.12/dist-packages/do_mpc/opcua/__init__.py:14: UserWarning: The opcua feature is not available. Please install the full version of do-mpc to access this feature.\n",
            "  warnings.warn('The opcua feature is not available. Please install the full version of do-mpc to access this feature.')\n"
          ]
        },
        {
          "output_type": "stream",
          "name": "stdout",
          "text": [
            "Collecting pybounds\n",
            "  Downloading pybounds-0.0.13-py3-none-any.whl.metadata (2.2 kB)\n",
            "Downloading pybounds-0.0.13-py3-none-any.whl (19 kB)\n",
            "Installing collected packages: pybounds\n",
            "Successfully installed pybounds-0.0.13\n"
          ]
        }
      ],
      "source": [
        "try:\n",
        "    import casadi\n",
        "except:\n",
        "    !pip install casadi\n",
        "    import casadi\n",
        "\n",
        "try:\n",
        "    import do_mpc\n",
        "except:\n",
        "    !pip install do_mpc\n",
        "    import do_mpc\n",
        "\n",
        "try:\n",
        "    import pybounds\n",
        "except:\n",
        "    !pip install pybounds\n",
        "    import pybounds"
      ]
    },
    {
      "cell_type": "markdown",
      "id": "fcb1cb7f-dde4-49bb-9569-b205e8ea4acd",
      "metadata": {
        "id": "fcb1cb7f-dde4-49bb-9569-b205e8ea4acd"
      },
      "source": [
        "# Planar drone dynamics."
      ]
    },
    {
      "cell_type": "markdown",
      "id": "765f359d-f722-4e3b-a7ee-aa1e65d7909c",
      "metadata": {
        "id": "765f359d-f722-4e3b-a7ee-aa1e65d7909c"
      },
      "source": [
        "$\n",
        "\\mathbf{\\dot{x}} =\n",
        "\\frac{d}{dt}\n",
        "\\begin{bmatrix}\n",
        "\\bbox[yellow]{\\theta} \\\\[0.3em]\n",
        "\\bbox[yellow]{\\dot{\\theta}} \\\\[0.3em]\n",
        "\\bbox[yellow]{x} \\\\[0.3em]\n",
        "\\bbox[yellow]{\\dot{x}} \\\\[0.3em]\n",
        "\\bbox[yellow]{z} \\\\[0.3em]\n",
        "\\bbox[yellow]{\\dot{z}} \\\\[0.3em]\n",
        "\\bbox[pink]{k}\n",
        "\\end{bmatrix} =\n",
        "\\overset{f_0}{\\begin{bmatrix}\n",
        "\\bbox[yellow]{\\dot{\\theta}} \\\\[0.3em]\n",
        "0 \\\\[0.3em]\n",
        "\\bbox[yellow]{\\dot{x}} \\\\[0.3em]\n",
        "0 \\\\[0.3em]\n",
        "\\bbox[yellow]{\\dot{z}} \\\\[0.3em]\n",
        "-\\bbox[lightblue]{g} \\\\[0.3em]\n",
        "0\n",
        "\\end{bmatrix}} +\n",
        "\\overset{f_1}{\\begin{bmatrix}\n",
        "0 \\\\[0.3em]\n",
        "\\bbox[lightblue]{l}\\bbox[pink]{k}/\\bbox[lightblue]{I_{yy}} \\\\[0.3em]\n",
        "0 \\\\[0.3em]\n",
        "0 \\\\[0.3em]\n",
        "0 \\\\[0.3em]\n",
        "0 \\\\[0.3em]\n",
        "0\n",
        "\\end{bmatrix}} \\bbox[lightgreen]{j_1} +\n",
        "\\overset{f_2}{\\begin{bmatrix}\n",
        "0 \\\\[0.3em]\n",
        "-\\bbox[pink]{k}\\bbox[yellow]{\\sin\\theta}/\\bbox[lightblue]{m} \\\\[0.3em]\n",
        "0 \\\\[0.3em]\n",
        "\\bbox[pink]{k}\\bbox[yellow]{\\cos\\theta}/\\bbox[lightblue]{m} \\\\[0.3em]\n",
        "0 \\\\[0.3em]\n",
        "0 \\\\[0.3em]\n",
        "0\n",
        "\\end{bmatrix}} \\bbox[lightgreen]{j_2}\n",
        "$\n",
        "\n",
        "<span style=\"color:blue;\">AI tip: try an LLM to convert picture of your dynamics to latex. It'll get much of it right, but you may need to fix it."
      ]
    },
    {
      "cell_type": "markdown",
      "id": "349d6d26-ff8d-4a7e-bd79-fbe9638a18fc",
      "metadata": {
        "id": "349d6d26-ff8d-4a7e-bd79-fbe9638a18fc"
      },
      "source": [
        "# Set some constant parameters (the blue symbols above)"
      ]
    },
    {
      "cell_type": "code",
      "execution_count": 8,
      "id": "c527e3eb-47d5-4f20-83ea-5b6bcb273148",
      "metadata": {
        "id": "c527e3eb-47d5-4f20-83ea-5b6bcb273148"
      },
      "outputs": [],
      "source": [
        "m = 1 # mass (kg)\n",
        "g = 9.81 # acceleration due to gravity (m/s^2)\n",
        "L = 0.5 # length of the drone arm (m)\n",
        "Iyy = 0.02 # moment of inertia (e.g. 1/12*m*L**2 for a solid rod, as an approximation)\n",
        "C= 0.1"
      ]
    },
    {
      "cell_type": "markdown",
      "id": "8821e299-aa98-4222-88b4-64cbe1507311",
      "metadata": {
        "id": "8821e299-aa98-4222-88b4-64cbe1507311"
      },
      "source": [
        "# Define your dynamics function\n",
        "\n",
        "We will use this same format many times, for evaluating observability and Kalman filters.\n",
        "\n",
        "<span style=\"color:blue;\">AI tip: try an LLM to convert a picture of the dynamics, or the latex code, to a python function. You may have to correct it!"
      ]
    },
    {
      "cell_type": "code",
      "execution_count": 9,
      "id": "3e7f724e-0938-4a28-89be-5b1c7970ba49",
      "metadata": {
        "id": "3e7f724e-0938-4a28-89be-5b1c7970ba49"
      },
      "outputs": [],
      "source": [
        "def f(x_vec, u_vec, m=m, g=g, L=L, I=Iyy, C=C):\n",
        "    \"\"\"\n",
        "    Continuous time dynamics function for the system shown in the equation.\n",
        "\n",
        "    Parameters:\n",
        "    x_vec : array-like, shape (7,)\n",
        "        State vector [θ, θ̇, x, ẋ, z, ż, k]\n",
        "    u_vec : array-like, shape (2,)\n",
        "        Control vector [j1, j2]\n",
        "    L : float, default 0.5\n",
        "        drone arm length\n",
        "    m : float, default 1.0\n",
        "        drone mass\n",
        "    g : float, default 9.81\n",
        "        Gravitational acceleration\n",
        "\n",
        "    Returns:\n",
        "    x_dot : numpy array, shape (7,)\n",
        "        Time derivative of state vector\n",
        "    \"\"\"\n",
        "\n",
        "    # Extract state variables\n",
        "    theta = x_vec[0]\n",
        "    theta_dot = x_vec[1]\n",
        "    x = x_vec[2]\n",
        "    x_dot = x_vec[3]\n",
        "    z = x_vec[4]\n",
        "    z_dot = x_vec[5]\n",
        "    k = x_vec[6]\n",
        "\n",
        "    # Extract control inputs\n",
        "    j1 = u_vec[0]\n",
        "    j2 = u_vec[1]\n",
        "\n",
        "    # f0 component: drift dynamics (no controls)\n",
        "    f0_contribution = np.array([ theta_dot,\n",
        "                                 0,\n",
        "                                 x_dot,\n",
        "                                 -np.sign(x_dot)*C*x_dot**2/m,\n",
        "                                 z_dot,\n",
        "                                 -g / m - np.sign(z_dot)*C*z_dot**2/m,\n",
        "                                 0])\n",
        "\n",
        "    # f1 component: multiplied by control j1\n",
        "    f1_contribution = j1 * np.array([0,\n",
        "                                     L*k/Iyy,\n",
        "                                     0,\n",
        "                                     0,\n",
        "                                     0,\n",
        "                                     0,\n",
        "                                     0])\n",
        "\n",
        "    # f2 component: multiplied by control j2\n",
        "    f2_contribution = j2 * np.array([0,\n",
        "                                     0,\n",
        "                                     0,\n",
        "                                     -k * np.sin(theta) / m,\n",
        "                                     0,\n",
        "                                     k * np.cos(theta) / m,\n",
        "                                     0])\n",
        "\n",
        "    # combined dynamics\n",
        "    x_dot_vec = f0_contribution + f1_contribution + f2_contribution\n",
        "\n",
        "    return x_dot_vec"
      ]
    },
    {
      "cell_type": "markdown",
      "id": "4f4e5265-c54b-472c-9ec3-ac00877d565d",
      "metadata": {
        "id": "4f4e5265-c54b-472c-9ec3-ac00877d565d"
      },
      "source": [
        "# Make sure dynamics make sense using odeint\n",
        "\n",
        "Use odeint to perform a simple ODE solver using a simple controller to verify that the dynamics appear to be correct.  "
      ]
    },
    {
      "cell_type": "code",
      "execution_count": 10,
      "id": "c0cc9e3c-f586-4617-8b75-c2efe5ce9957",
      "metadata": {
        "id": "c0cc9e3c-f586-4617-8b75-c2efe5ce9957"
      },
      "outputs": [],
      "source": [
        "def f_ode(x_vec, tsim, u_func, f):\n",
        "    '''\n",
        "    Wrap dynamics function so it can be used with odeint.\n",
        "\n",
        "    Parameters:\n",
        "    x_vec : array-like, shape (7,)\n",
        "        State vector\n",
        "    tsim : float\n",
        "        Current time step\n",
        "    u_func: function\n",
        "        Control function\n",
        "    f: function\n",
        "        Continuous time dynamics function\n",
        "\n",
        "    Returns:\n",
        "    x_dot_vec : numpy array, shape (7,)\n",
        "        Time derivative of state vector\n",
        "    '''\n",
        "    u_vec = u_func(x_vec, tsim)\n",
        "    x_dot_vec = f(x_vec, u_vec)\n",
        "    return x_dot_vec"
      ]
    },
    {
      "cell_type": "code",
      "execution_count": 11,
      "id": "987fdfab-a0bc-480f-99aa-e5029ffc9846",
      "metadata": {
        "id": "987fdfab-a0bc-480f-99aa-e5029ffc9846"
      },
      "outputs": [],
      "source": [
        "def u_func(x_vec, tsim, m=m, g=g, L=L, Iyy=Iyy):\n",
        "    '''\n",
        "    Simple controller that aims to move the drone up, and make the angle oscillate.\n",
        "    '''\n",
        "    theta = x_vec[0]\n",
        "    theta_des = np.sin(2*tsim)*0.1\n",
        "    err = theta_des - theta\n",
        "    ctrl = 10*err\n",
        "    return [ctrl, m*g*1.5]"
      ]
    },
    {
      "cell_type": "code",
      "execution_count": 12,
      "id": "5dfb6f94-20d4-4ed4-9549-105d29ac0f46",
      "metadata": {
        "id": "5dfb6f94-20d4-4ed4-9549-105d29ac0f46"
      },
      "outputs": [],
      "source": [
        "# sim time\n",
        "dt = 0.01\n",
        "tsim = np.arange(0, 8.0, step=dt)"
      ]
    },
    {
      "cell_type": "code",
      "execution_count": 13,
      "id": "6acf5c11-e8ae-462b-a9b1-c75c195e7183",
      "metadata": {
        "id": "6acf5c11-e8ae-462b-a9b1-c75c195e7183"
      },
      "outputs": [],
      "source": [
        "# initial condition\n",
        "x0 = np.array([0, 0, 0, 0, 10, 0, 1])"
      ]
    },
    {
      "cell_type": "code",
      "execution_count": 14,
      "id": "a2c7e8f7-8727-42ee-af5b-2f85e5aafbe4",
      "metadata": {
        "id": "a2c7e8f7-8727-42ee-af5b-2f85e5aafbe4"
      },
      "outputs": [],
      "source": [
        "# run odeint\n",
        "result = odeint(f_ode, x0, tsim, args=(u_func, f) )"
      ]
    },
    {
      "cell_type": "markdown",
      "id": "6ba7c5d1-136d-4fa7-875b-8c5d97434af3",
      "metadata": {
        "id": "6ba7c5d1-136d-4fa7-875b-8c5d97434af3"
      },
      "source": [
        "### Plot some results\n",
        "\n",
        "Based on the control function and dynamics, does this make sense?"
      ]
    },
    {
      "cell_type": "code",
      "execution_count": 15,
      "id": "10120844-46b5-4d00-ac30-cf628cfd6240",
      "metadata": {
        "id": "10120844-46b5-4d00-ac30-cf628cfd6240",
        "outputId": "8ad9aa44-a26c-4183-de60-dfa8f13ad741",
        "colab": {
          "base_uri": "https://localhost:8080/",
          "height": 487
        }
      },
      "outputs": [
        {
          "output_type": "execute_result",
          "data": {
            "text/plain": [
              "Text(0, 0.5, 'z pos')"
            ]
          },
          "metadata": {},
          "execution_count": 15
        },
        {
          "output_type": "display_data",
          "data": {
            "text/plain": [
              "<Figure size 640x480 with 1 Axes>"
            ],
            "image/png": "[encoded data removed]"
          },
          "metadata": {}
        }
      ],
      "source": [
        "fig = plt.figure()\n",
        "ax = fig.add_subplot(111)\n",
        "\n",
        "ax.plot(result[:,2], result[:,4], '.')\n",
        "ax.set_xlabel('x pos')\n",
        "ax.set_ylabel('z pos')"
      ]
    },
    {
      "cell_type": "code",
      "execution_count": 16,
      "id": "0d1aa2c3-fe29-4553-9085-f12734e249f7",
      "metadata": {
        "id": "0d1aa2c3-fe29-4553-9085-f12734e249f7",
        "outputId": "58a0d310-1963-4438-8e32-419197d0e48b",
        "colab": {
          "base_uri": "https://localhost:8080/",
          "height": 486
        }
      },
      "outputs": [
        {
          "output_type": "execute_result",
          "data": {
            "text/plain": [
              "Text(0, 0.5, 'theta')"
            ]
          },
          "metadata": {},
          "execution_count": 16
        },
        {
          "output_type": "display_data",
          "data": {
            "text/plain": [
              "<Figure size 640x480 with 1 Axes>"
            ],
            "image/png": "[encoded data removed]"
          },
          "metadata": {}
        }
      ],
      "source": [
        "fig = plt.figure()\n",
        "ax = fig.add_subplot(111)\n",
        "\n",
        "ax.plot(tsim, result[:,0], '.')\n",
        "ax.set_xlabel('time')\n",
        "ax.set_ylabel('theta')"
      ]
    },
    {
      "cell_type": "markdown",
      "id": "fb81a825-aff4-47cd-828f-b6deefa0ad02",
      "metadata": {
        "id": "fb81a825-aff4-47cd-828f-b6deefa0ad02"
      },
      "source": [
        "# Planar drone measurements\n",
        "\n",
        "Define a measurement function. In this case we consider $\\mathbf{y}$ consisting of a downward facing camera that records ventral optic flow, and a measurement of the tilt of the planar drone.\n",
        "\n",
        "$\n",
        "\\mathbf{y} =\n",
        "\\begin{bmatrix}\n",
        "\\bbox[yellow]{\\dot{x}}/\\bbox[yellow]{z} \\\\[0.3em]\n",
        "\\bbox[yellow]{\\theta}\n",
        "\\end{bmatrix}\n",
        "$"
      ]
    },
    {
      "cell_type": "code",
      "execution_count": 17,
      "id": "1c7979f0-f9a2-44d4-8e19-da0142038fb3",
      "metadata": {
        "id": "1c7979f0-f9a2-44d4-8e19-da0142038fb3"
      },
      "outputs": [],
      "source": [
        "def h(x_vec, u_vec):\n",
        "    # Extract state variables\n",
        "    theta = x_vec[0]\n",
        "    theta_dot = x_vec[1]\n",
        "    x = x_vec[2]\n",
        "    x_dot = x_vec[3]\n",
        "    z = x_vec[4]\n",
        "    z_dot = x_vec[5]\n",
        "    k = x_vec[6]\n",
        "\n",
        "    # Extract control inputs\n",
        "    j1 = u_vec[0]\n",
        "    j2 = u_vec[1]\n",
        "\n",
        "    # Measurements\n",
        "    y_vec = [x_dot/z, theta]\n",
        "\n",
        "    # Return measurement\n",
        "    return y_vec"
      ]
    },
    {
      "cell_type": "markdown",
      "id": "e38d4002-ac01-4e6c-90b9-6719473dc97e",
      "metadata": {
        "id": "e38d4002-ac01-4e6c-90b9-6719473dc97e"
      },
      "source": [
        "# Simulate with pybounds / MPC"
      ]
    },
    {
      "cell_type": "code",
      "execution_count": 18,
      "id": "6165e84d-fd0b-4d69-b7d8-cd81bfee81bb",
      "metadata": {
        "id": "6165e84d-fd0b-4d69-b7d8-cd81bfee81bb"
      },
      "outputs": [],
      "source": [
        "import pybounds"
      ]
    },
    {
      "cell_type": "code",
      "execution_count": 19,
      "id": "f7de7b9f-f08f-4681-8652-91dba594e4fa",
      "metadata": {
        "id": "f7de7b9f-f08f-4681-8652-91dba594e4fa"
      },
      "outputs": [],
      "source": [
        "state_names = ['theta', 'theta_dot', 'x', 'x_dot', 'z', 'z_dot', 'k']\n",
        "input_names = ['j1', 'j2']\n",
        "measurement_names = ['optic_flow', 'theta']"
      ]
    },
    {
      "cell_type": "code",
      "execution_count": 20,
      "id": "69fac758-5bc3-40f7-ac57-97430decf58b",
      "metadata": {
        "id": "69fac758-5bc3-40f7-ac57-97430decf58b"
      },
      "outputs": [],
      "source": [
        "dt = 0.1  # [s]"
      ]
    },
    {
      "cell_type": "code",
      "execution_count": 21,
      "id": "6830d6aa-72fe-44de-9d6e-1cd9fb44689f",
      "metadata": {
        "id": "6830d6aa-72fe-44de-9d6e-1cd9fb44689f"
      },
      "outputs": [],
      "source": [
        "simulator = pybounds.Simulator(f, h, dt=dt, state_names=state_names,\n",
        "                               input_names=input_names, measurement_names=measurement_names, mpc_horizon=10)\n"
      ]
    },
    {
      "cell_type": "code",
      "execution_count": 22,
      "id": "3c1aba1b-1c47-4246-92c3-a1d9481f5c7c",
      "metadata": {
        "id": "3c1aba1b-1c47-4246-92c3-a1d9481f5c7c"
      },
      "outputs": [],
      "source": [
        "# First define the set-point(s) to follow\n",
        "tsim = np.arange(0, 8.0, step=dt)\n",
        "NA = np.zeros_like(tsim)\n",
        "setpoint = {'theta': NA,\n",
        "            'theta_dot': NA,\n",
        "            'x': 1.0*np.cos(2*np.pi*tsim*0.3),  # ground speed changes as a sinusoid\n",
        "            'x_dot': NA,\n",
        "            'z': 0.3*np.sin(2*np.pi*tsim*0.2)+0.5, # altitude also oscillates\n",
        "            'z_dot': NA,\n",
        "            'k': np.ones_like(tsim),\n",
        "           }"
      ]
    },
    {
      "cell_type": "code",
      "execution_count": 23,
      "id": "ca9f70a8-2d99-48a6-967e-81b40a4e700c",
      "metadata": {
        "id": "ca9f70a8-2d99-48a6-967e-81b40a4e700c"
      },
      "outputs": [],
      "source": [
        "# Update the simulator set-point\n",
        "simulator.update_dict(setpoint, name='setpoint')"
      ]
    },
    {
      "cell_type": "code",
      "execution_count": 24,
      "id": "ffa19c72-cdaf-4b0b-be92-2b0ea8971a70",
      "metadata": {
        "id": "ffa19c72-cdaf-4b0b-be92-2b0ea8971a70"
      },
      "outputs": [],
      "source": [
        "# Define MPC cost function: penalize the squared error between the setpoint for g and the true g\n",
        "cost_x = (simulator.model.x['x'] - simulator.model.tvp['x_set']) ** 2\n",
        "cost_z = (simulator.model.x['z'] - simulator.model.tvp['z_set']) ** 2\n",
        "cost_k = (simulator.model.x['k'] - simulator.model.tvp['k_set']) ** 2\n",
        "cost = cost_x + cost_z #+ cost_k"
      ]
    },
    {
      "cell_type": "code",
      "execution_count": 25,
      "id": "b3f690de-56d8-4c4c-947b-a8de493c9fde",
      "metadata": {
        "id": "b3f690de-56d8-4c4c-947b-a8de493c9fde"
      },
      "outputs": [],
      "source": [
        "# Set cost function\n",
        "simulator.mpc.set_objective(mterm=cost, lterm=cost)  # objective function\n",
        "\n",
        "# Set input penalty: make this small for accurate state tracking\n",
        "simulator.mpc.set_rterm(j1=1e-4, j2=1e-4)"
      ]
    },
    {
      "cell_type": "code",
      "execution_count": 26,
      "id": "c5ec8eac-a51e-4f64-9743-b3c21c190c00",
      "metadata": {
        "id": "c5ec8eac-a51e-4f64-9743-b3c21c190c00"
      },
      "outputs": [],
      "source": [
        "simulator.mpc.bounds['lower', '_x', 'theta'] = -np.pi/4\n",
        "simulator.mpc.bounds['upper', '_x', 'theta'] = np.pi/4\n",
        "simulator.mpc.bounds['lower', '_x', 'z'] = 0.0\n",
        "\n",
        "simulator.mpc.bounds['lower', '_u', 'j2'] = 0.0"
      ]
    },
    {
      "cell_type": "code",
      "execution_count": 27,
      "id": "cfaa8cab-5c0f-42c7-b006-9914e01ceb14",
      "metadata": {
        "id": "cfaa8cab-5c0f-42c7-b006-9914e01ceb14"
      },
      "outputs": [],
      "source": [
        "# Run simulation using MPC\n",
        "t_sim, x_sim, u_sim, y_sim = simulator.simulate(x0=None, u=None, mpc=True, return_full_output=True)"
      ]
    },
    {
      "cell_type": "code",
      "execution_count": 28,
      "id": "71d4e015-81c7-45fe-83c2-90076fcc5d4c",
      "metadata": {
        "id": "71d4e015-81c7-45fe-83c2-90076fcc5d4c",
        "outputId": "b10de7d7-048a-42d6-b755-7007dbb0a633",
        "colab": {
          "base_uri": "https://localhost:8080/",
          "height": 1000
        }
      },
      "outputs": [
        {
          "output_type": "display_data",
          "data": {
            "text/plain": [
              "<Figure size 600x1575 with 7 Axes>"
            ],
            "image/png": "[encoded data removed]"
          },
          "metadata": {}
        }
      ],
      "source": [
        "simulator.plot('setpoint')"
      ]
    },
    {
      "cell_type": "markdown",
      "id": "224897b5-9a61-41b7-8247-681a20a01bd8",
      "metadata": {
        "id": "224897b5-9a61-41b7-8247-681a20a01bd8"
      },
      "source": [
        "# Save the trajectory\n",
        "\n",
        "This makes is easy to load in a future notebook, for example `B_planar_drone_animation.ipynb`\n",
        "\n",
        "We will use pandas dataframes and hdf files throughout the course. This serves as a brief introduction."
      ]
    },
    {
      "cell_type": "code",
      "execution_count": 29,
      "id": "3d3677b8-c7df-492f-bbe7-a0bc755142d9",
      "metadata": {
        "id": "3d3677b8-c7df-492f-bbe7-a0bc755142d9"
      },
      "outputs": [],
      "source": [
        "# turn all the sim outputs into pandas dataframes\n",
        "df_x = pandas.DataFrame(x_sim) # x_sim is a dict\n",
        "df_u = pandas.DataFrame(u_sim) # u_sim is a dict\n",
        "df_y = pandas.DataFrame(y_sim) # y_sim is a dict\n",
        "df_t = pandas.DataFrame({'t': t_sim}) # t_sim is a 1d array, make it a dict\n",
        "\n",
        "# keep states and measurements separate since they can have conflicting names\n",
        "df_states = pandas.concat([df_t, df_x, df_u], axis=1)\n",
        "df_measurements = pandas.concat([df_t, df_y], axis=1)"
      ]
    },
    {
      "cell_type": "code",
      "execution_count": 30,
      "id": "8c0c07cf-4983-4f0c-a08c-7c2d40e101b7",
      "metadata": {
        "id": "8c0c07cf-4983-4f0c-a08c-7c2d40e101b7",
        "outputId": "5db125a2-251f-40fb-d460-7fae405f5387",
        "colab": {
          "base_uri": "https://localhost:8080/"
        }
      },
      "outputs": [
        {
          "output_type": "stream",
          "name": "stderr",
          "text": [
            "/tmp/ipython-input-2852094502.py:1: FutureWarning: Starting with pandas version 3.0 all arguments of to_hdf except for the argument 'path_or_buf' will be keyword-only.\n",
            "  df_states.to_hdf('planar_drone_sim_states.hdf', 'states')\n",
            "/tmp/ipython-input-2852094502.py:2: FutureWarning: Starting with pandas version 3.0 all arguments of to_hdf except for the argument 'path_or_buf' will be keyword-only.\n",
            "  df_measurements.to_hdf('planar_drone_sim_measurements.hdf', 'measurements')\n"
          ]
        }
      ],
      "source": [
        "df_states.to_hdf('planar_drone_sim_states.hdf', 'states')\n",
        "df_measurements.to_hdf('planar_drone_sim_measurements.hdf', 'measurements')"
      ]
    },
    {
      "cell_type": "markdown",
      "id": "be78cea9-4bb3-4f1a-a6f1-badb9aacb052",
      "metadata": {
        "id": "be78cea9-4bb3-4f1a-a6f1-badb9aacb052"
      },
      "source": [
        "### look at the dataframe format"
      ]
    },
    {
      "cell_type": "code",
      "execution_count": 31,
      "id": "37ba35d7-8eb0-43d3-a444-0d17805f9554",
      "metadata": {
        "id": "37ba35d7-8eb0-43d3-a444-0d17805f9554",
        "outputId": "3abf191d-cfeb-4af6-a019-51785c6da2c0",
        "colab": {
          "base_uri": "https://localhost:8080/",
          "height": 424
        }
      },
      "outputs": [
        {
          "output_type": "execute_result",
          "data": {
            "text/plain": [
              "      t     theta  theta_dot         x     x_dot         z     z_dot    k  \\\n",
              "0   0.0  0.000000   0.000000  1.000000  0.000000  0.500000  0.000000  1.0   \n",
              "1   0.1  0.230815   4.616295  0.997739 -0.090245  0.509721  0.190194  1.0   \n",
              "2   0.2  0.514691   1.061234  0.964785 -0.628589  0.544282  0.475839  1.0   \n",
              "3   0.3  0.450580  -2.343458  0.873269 -1.189096  0.593155  0.507546  1.0   \n",
              "4   0.4  0.227101  -2.126131  0.737620 -1.488699  0.639541  0.432159  1.0   \n",
              "..  ...       ...        ...       ...       ...       ...       ...  ...   \n",
              "75  7.5  0.099320  -0.132923  0.002991 -1.897076  0.499401 -0.404675  1.0   \n",
              "76  7.6  0.021247  -1.428545 -0.188991 -1.929641  0.458675 -0.408988  1.0   \n",
              "77  7.7 -0.196268  -2.921749 -0.378120 -1.816189  0.420596 -0.355657  1.0   \n",
              "78  7.8 -0.465569  -2.464259 -0.542021 -1.415722  0.390552 -0.262022  1.0   \n",
              "79  7.9 -0.569431   0.387020 -0.651818 -0.764119  0.369035 -0.179278  1.0   \n",
              "\n",
              "          j1         j2  \n",
              "0   1.846518  11.775774  \n",
              "1  -1.422024  13.827447  \n",
              "2  -1.361877  11.640588  \n",
              "3   0.086931   9.638885  \n",
              "4   0.733070   9.014907  \n",
              "..       ...        ...  \n",
              "75 -0.518249   9.777557  \n",
              "76 -0.597282  10.378563  \n",
              "77  0.182996  11.402658  \n",
              "78  1.140512  12.412388  \n",
              "79  1.140512  12.412388  \n",
              "\n",
              "[80 rows x 10 columns]"
            ],
            "text/html": [
              "\n",
              "  <div id=\"df-78db5f8c-bf59-4742-9f9f-391523756dbb\" class=\"colab-df-container\">\n",
              "    <div>\n",
              "<style scoped>\n",
              "    .dataframe tbody tr th:only-of-type {\n",
              "        vertical-align: middle;\n",
              "    }\n",
              "\n",
              "    .dataframe tbody tr th {\n",
              "        vertical-align: top;\n",
              "    }\n",
              "\n",
              "    .dataframe thead th {\n",
              "        text-align: right;\n",
              "    }\n",
              "</style>\n",
              "<table border=\"1\" class=\"dataframe\">\n",
              "  <thead>\n",
              "    <tr style=\"text-align: right;\">\n",
              "      <th></th>\n",
              "      <th>t</th>\n",
              "      <th>theta</th>\n",
              "      <th>theta_dot</th>\n",
              "      <th>x</th>\n",
              "      <th>x_dot</th>\n",
              "      <th>z</th>\n",
              "      <th>z_dot</th>\n",
              "      <th>k</th>\n",
              "      <th>j1</th>\n",
              "      <th>j2</th>\n",
              "    </tr>\n",
              "  </thead>\n",
              "  <tbody>\n",
              "    <tr>\n",
              "      <th>0</th>\n",
              "      <td>0.0</td>\n",
              "      <td>0.000000</td>\n",
              "      <td>0.000000</td>\n",
              "      <td>1.000000</td>\n",
              "      <td>0.000000</td>\n",
              "      <td>0.500000</td>\n",
              "      <td>0.000000</td>\n",
              "      <td>1.0</td>\n",
              "      <td>1.846518</td>\n",
              "      <td>11.775774</td>\n",
              "    </tr>\n",
              "    <tr>\n",
              "      <th>1</th>\n",
              "      <td>0.1</td>\n",
              "      <td>0.230815</td>\n",
              "      <td>4.616295</td>\n",
              "      <td>0.997739</td>\n",
              "      <td>-0.090245</td>\n",
              "      <td>0.509721</td>\n",
              "      <td>0.190194</td>\n",
              "      <td>1.0</td>\n",
              "      <td>-1.422024</td>\n",
              "      <td>13.827447</td>\n",
              "    </tr>\n",
              "    <tr>\n",
              "      <th>2</th>\n",
              "      <td>0.2</td>\n",
              "      <td>0.514691</td>\n",
              "      <td>1.061234</td>\n",
              "      <td>0.964785</td>\n",
              "      <td>-0.628589</td>\n",
              "      <td>0.544282</td>\n",
              "      <td>0.475839</td>\n",
              "      <td>1.0</td>\n",
              "      <td>-1.361877</td>\n",
              "      <td>11.640588</td>\n",
              "    </tr>\n",
              "    <tr>\n",
              "      <th>3</th>\n",
              "      <td>0.3</td>\n",
              "      <td>0.450580</td>\n",
              "      <td>-2.343458</td>\n",
              "      <td>0.873269</td>\n",
              "      <td>-1.189096</td>\n",
              "      <td>0.593155</td>\n",
              "      <td>0.507546</td>\n",
              "      <td>1.0</td>\n",
              "      <td>0.086931</td>\n",
              "      <td>9.638885</td>\n",
              "    </tr>\n",
              "    <tr>\n",
              "      <th>4</th>\n",
              "      <td>0.4</td>\n",
              "      <td>0.227101</td>\n",
              "      <td>-2.126131</td>\n",
              "      <td>0.737620</td>\n",
              "      <td>-1.488699</td>\n",
              "      <td>0.639541</td>\n",
              "      <td>0.432159</td>\n",
              "      <td>1.0</td>\n",
              "      <td>0.733070</td>\n",
              "      <td>9.014907</td>\n",
              "    </tr>\n",
              "    <tr>\n",
              "      <th>...</th>\n",
              "      <td>...</td>\n",
              "      <td>...</td>\n",
              "      <td>...</td>\n",
              "      <td>...</td>\n",
              "      <td>...</td>\n",
              "      <td>...</td>\n",
              "      <td>...</td>\n",
              "      <td>...</td>\n",
              "      <td>...</td>\n",
              "      <td>...</td>\n",
              "    </tr>\n",
              "    <tr>\n",
              "      <th>75</th>\n",
              "      <td>7.5</td>\n",
              "      <td>0.099320</td>\n",
              "      <td>-0.132923</td>\n",
              "      <td>0.002991</td>\n",
              "      <td>-1.897076</td>\n",
              "      <td>0.499401</td>\n",
              "      <td>-0.404675</td>\n",
              "      <td>1.0</td>\n",
              "      <td>-0.518249</td>\n",
              "      <td>9.777557</td>\n",
              "    </tr>\n",
              "    <tr>\n",
              "      <th>76</th>\n",
              "      <td>7.6</td>\n",
              "      <td>0.021247</td>\n",
              "      <td>-1.428545</td>\n",
              "      <td>-0.188991</td>\n",
              "      <td>-1.929641</td>\n",
              "      <td>0.458675</td>\n",
              "      <td>-0.408988</td>\n",
              "      <td>1.0</td>\n",
              "      <td>-0.597282</td>\n",
              "      <td>10.378563</td>\n",
              "    </tr>\n",
              "    <tr>\n",
              "      <th>77</th>\n",
              "      <td>7.7</td>\n",
              "      <td>-0.196268</td>\n",
              "      <td>-2.921749</td>\n",
              "      <td>-0.378120</td>\n",
              "      <td>-1.816189</td>\n",
              "      <td>0.420596</td>\n",
              "      <td>-0.355657</td>\n",
              "      <td>1.0</td>\n",
              "      <td>0.182996</td>\n",
              "      <td>11.402658</td>\n",
              "    </tr>\n",
              "    <tr>\n",
              "      <th>78</th>\n",
              "      <td>7.8</td>\n",
              "      <td>-0.465569</td>\n",
              "      <td>-2.464259</td>\n",
              "      <td>-0.542021</td>\n",
              "      <td>-1.415722</td>\n",
              "      <td>0.390552</td>\n",
              "      <td>-0.262022</td>\n",
              "      <td>1.0</td>\n",
              "      <td>1.140512</td>\n",
              "      <td>12.412388</td>\n",
              "    </tr>\n",
              "    <tr>\n",
              "      <th>79</th>\n",
              "      <td>7.9</td>\n",
              "      <td>-0.569431</td>\n",
              "      <td>0.387020</td>\n",
              "      <td>-0.651818</td>\n",
              "      <td>-0.764119</td>\n",
              "      <td>0.369035</td>\n",
              "      <td>-0.179278</td>\n",
              "      <td>1.0</td>\n",
              "      <td>1.140512</td>\n",
              "      <td>12.412388</td>\n",
              "    </tr>\n",
              "  </tbody>\n",
              "</table>\n",
              "<p>80 rows × 10 columns</p>\n",
              "</div>\n",
              "    <div class=\"colab-df-buttons\">\n",
              "\n",
              "  <div class=\"colab-df-container\">\n",
              "    <button class=\"colab-df-convert\" onclick=\"convertToInteractive('df-78db5f8c-bf59-4742-9f9f-391523756dbb')\"\n",
              "            title=\"Convert this dataframe to an interactive table.\"\n",
              "            style=\"display:none;\">\n",
              "\n",
              "  <svg xmlns=\"http://www.w3.org/2000/svg\" height=\"24px\" viewBox=\"0 -960 960 960\">\n",
              "    <path d=\"M120-120v-720h720v720H120Zm60-500h600v-160H180v160Zm220 220h160v-160H400v160Zm0 220h160v-160H400v160ZM180-400h160v-160H180v160Zm440 0h160v-160H620v160ZM180-180h160v-160H180v160Zm440 0h160v-160H620v160Z\"/>\n",
              "  </svg>\n",
              "    </button>\n",
              "\n",
              "  <style>\n",
              "    .colab-df-container {\n",
              "      display:flex;\n",
              "      gap: 12px;\n",
              "    }\n",
              "\n",
              "    .colab-df-convert {\n",
              "      background-color: #E8F0FE;\n",
              "      border: none;\n",
              "      border-radius: 50%;\n",
              "      cursor: pointer;\n",
              "      display: none;\n",
              "      fill: #1967D2;\n",
              "      height: 32px;\n",
              "      padding: 0 0 0 0;\n",
              "      width: 32px;\n",
              "    }\n",
              "\n",
              "    .colab-df-convert:hover {\n",
              "      background-color: #E2EBFA;\n",
              "      box-shadow: 0px 1px 2px rgba(60, 64, 67, 0.3), 0px 1px 3px 1px rgba(60, 64, 67, 0.15);\n",
              "      fill: #174EA6;\n",
              "    }\n",
              "\n",
              "    .colab-df-buttons div {\n",
              "      margin-bottom: 4px;\n",
              "    }\n",
              "\n",
              "    [theme=dark] .colab-df-convert {\n",
              "      background-color: #3B4455;\n",
              "      fill: #D2E3FC;\n",
              "    }\n",
              "\n",
              "    [theme=dark] .colab-df-convert:hover {\n",
              "      background-color: #434B5C;\n",
              "      box-shadow: 0px 1px 3px 1px rgba(0, 0, 0, 0.15);\n",
              "      filter: drop-shadow(0px 1px 2px rgba(0, 0, 0, 0.3));\n",
              "      fill: #FFFFFF;\n",
              "    }\n",
              "  </style>\n",
              "\n",
              "    <script>\n",
              "      const buttonEl =\n",
              "        document.querySelector('#df-78db5f8c-bf59-4742-9f9f-391523756dbb button.colab-df-convert');\n",
              "      buttonEl.style.display =\n",
              "        google.colab.kernel.accessAllowed ? 'block' : 'none';\n",
              "\n",
              "      async function convertToInteractive(key) {\n",
              "        const element = document.querySelector('#df-78db5f8c-bf59-4742-9f9f-391523756dbb');\n",
              "        const dataTable =\n",
              "          await google.colab.kernel.invokeFunction('convertToInteractive',\n",
              "                                                    [key], {});\n",
              "        if (!dataTable) return;\n",
              "\n",
              "        const docLinkHtml = 'Like what you see? Visit the ' +\n",
              "          '<a target=\"_blank\" href=https://colab.research.google.com/notebooks/data_table.ipynb>data table notebook</a>'\n",
              "          + ' to learn more about interactive tables.';\n",
              "        element.innerHTML = '';\n",
              "        dataTable['output_type'] = 'display_data';\n",
              "        await google.colab.output.renderOutput(dataTable, element);\n",
              "        const docLink = document.createElement('div');\n",
              "        docLink.innerHTML = docLinkHtml;\n",
              "        element.appendChild(docLink);\n",
              "      }\n",
              "    </script>\n",
              "  </div>\n",
              "\n",
              "\n",
              "    <div id=\"df-d979fd53-d3de-4dbe-b5aa-748868570bc8\">\n",
              "      <button class=\"colab-df-quickchart\" onclick=\"quickchart('df-d979fd53-d3de-4dbe-b5aa-748868570bc8')\"\n",
              "                title=\"Suggest charts\"\n",
              "                style=\"display:none;\">\n",
              "\n",
              "<svg xmlns=\"http://www.w3.org/2000/svg\" height=\"24px\"viewBox=\"0 0 24 24\"\n",
              "     width=\"24px\">\n",
              "    <g>\n",
              "        <path d=\"M19 3H5c-1.1 0-2 .9-2 2v14c0 1.1.9 2 2 2h14c1.1 0 2-.9 2-2V5c0-1.1-.9-2-2-2zM9 17H7v-7h2v7zm4 0h-2V7h2v10zm4 0h-2v-4h2v4z\"/>\n",
              "    </g>\n",
              "</svg>\n",
              "      </button>\n",
              "\n",
              "<style>\n",
              "  .colab-df-quickchart {\n",
              "      --bg-color: #E8F0FE;\n",
              "      --fill-color: #1967D2;\n",
              "      --hover-bg-color: #E2EBFA;\n",
              "      --hover-fill-color: #174EA6;\n",
              "      --disabled-fill-color: #AAA;\n",
              "      --disabled-bg-color: #DDD;\n",
              "  }\n",
              "\n",
              "  [theme=dark] .colab-df-quickchart {\n",
              "      --bg-color: #3B4455;\n",
              "      --fill-color: #D2E3FC;\n",
              "      --hover-bg-color: #434B5C;\n",
              "      --hover-fill-color: #FFFFFF;\n",
              "      --disabled-bg-color: #3B4455;\n",
              "      --disabled-fill-color: #666;\n",
              "  }\n",
              "\n",
              "  .colab-df-quickchart {\n",
              "    background-color: var(--bg-color);\n",
              "    border: none;\n",
              "    border-radius: 50%;\n",
              "    cursor: pointer;\n",
              "    display: none;\n",
              "    fill: var(--fill-color);\n",
              "    height: 32px;\n",
              "    padding: 0;\n",
              "    width: 32px;\n",
              "  }\n",
              "\n",
              "  .colab-df-quickchart:hover {\n",
              "    background-color: var(--hover-bg-color);\n",
              "    box-shadow: 0 1px 2px rgba(60, 64, 67, 0.3), 0 1px 3px 1px rgba(60, 64, 67, 0.15);\n",
              "    fill: var(--button-hover-fill-color);\n",
              "  }\n",
              "\n",
              "  .colab-df-quickchart-complete:disabled,\n",
              "  .colab-df-quickchart-complete:disabled:hover {\n",
              "    background-color: var(--disabled-bg-color);\n",
              "    fill: var(--disabled-fill-color);\n",
              "    box-shadow: none;\n",
              "  }\n",
              "\n",
              "  .colab-df-spinner {\n",
              "    border: 2px solid var(--fill-color);\n",
              "    border-color: transparent;\n",
              "    border-bottom-color: var(--fill-color);\n",
              "    animation:\n",
              "      spin 1s steps(1) infinite;\n",
              "  }\n",
              "\n",
              "  @keyframes spin {\n",
              "    0% {\n",
              "      border-color: transparent;\n",
              "      border-bottom-color: var(--fill-color);\n",
              "      border-left-color: var(--fill-color);\n",
              "    }\n",
              "    20% {\n",
              "      border-color: transparent;\n",
              "      border-left-color: var(--fill-color);\n",
              "      border-top-color: var(--fill-color);\n",
              "    }\n",
              "    30% {\n",
              "      border-color: transparent;\n",
              "      border-left-color: var(--fill-color);\n",
              "      border-top-color: var(--fill-color);\n",
              "      border-right-color: var(--fill-color);\n",
              "    }\n",
              "    40% {\n",
              "      border-color: transparent;\n",
              "      border-right-color: var(--fill-color);\n",
              "      border-top-color: var(--fill-color);\n",
              "    }\n",
              "    60% {\n",
              "      border-color: transparent;\n",
              "      border-right-color: var(--fill-color);\n",
              "    }\n",
              "    80% {\n",
              "      border-color: transparent;\n",
              "      border-right-color: var(--fill-color);\n",
              "      border-bottom-color: var(--fill-color);\n",
              "    }\n",
              "    90% {\n",
              "      border-color: transparent;\n",
              "      border-bottom-color: var(--fill-color);\n",
              "    }\n",
              "  }\n",
              "</style>\n",
              "\n",
              "      <script>\n",
              "        async function quickchart(key) {\n",
              "          const quickchartButtonEl =\n",
              "            document.querySelector('#' + key + ' button');\n",
              "          quickchartButtonEl.disabled = true;  // To prevent multiple clicks.\n",
              "          quickchartButtonEl.classList.add('colab-df-spinner');\n",
              "          try {\n",
              "            const charts = await google.colab.kernel.invokeFunction(\n",
              "                'suggestCharts', [key], {});\n",
              "          } catch (error) {\n",
              "            console.error('Error during call to suggestCharts:', error);\n",
              "          }\n",
              "          quickchartButtonEl.classList.remove('colab-df-spinner');\n",
              "          quickchartButtonEl.classList.add('colab-df-quickchart-complete');\n",
              "        }\n",
              "        (() => {\n",
              "          let quickchartButtonEl =\n",
              "            document.querySelector('#df-d979fd53-d3de-4dbe-b5aa-748868570bc8 button');\n",
              "          quickchartButtonEl.style.display =\n",
              "            google.colab.kernel.accessAllowed ? 'block' : 'none';\n",
              "        })();\n",
              "      </script>\n",
              "    </div>\n",
              "\n",
              "  <div id=\"id_79bc9fef-2209-47e0-8285-8b3426b6bb69\">\n",
              "    <style>\n",
              "      .colab-df-generate {\n",
              "        background-color: #E8F0FE;\n",
              "        border: none;\n",
              "        border-radius: 50%;\n",
              "        cursor: pointer;\n",
              "        display: none;\n",
              "        fill: #1967D2;\n",
              "        height: 32px;\n",
              "        padding: 0 0 0 0;\n",
              "        width: 32px;\n",
              "      }\n",
              "\n",
              "      .colab-df-generate:hover {\n",
              "        background-color: #E2EBFA;\n",
              "        box-shadow: 0px 1px 2px rgba(60, 64, 67, 0.3), 0px 1px 3px 1px rgba(60, 64, 67, 0.15);\n",
              "        fill: #174EA6;\n",
              "      }\n",
              "\n",
              "      [theme=dark] .colab-df-generate {\n",
              "        background-color: #3B4455;\n",
              "        fill: #D2E3FC;\n",
              "      }\n",
              "\n",
              "      [theme=dark] .colab-df-generate:hover {\n",
              "        background-color: #434B5C;\n",
              "        box-shadow: 0px 1px 3px 1px rgba(0, 0, 0, 0.15);\n",
              "        filter: drop-shadow(0px 1px 2px rgba(0, 0, 0, 0.3));\n",
              "        fill: #FFFFFF;\n",
              "      }\n",
              "    </style>\n",
              "    <button class=\"colab-df-generate\" onclick=\"generateWithVariable('df_states')\"\n",
              "            title=\"Generate code using this dataframe.\"\n",
              "            style=\"display:none;\">\n",
              "\n",
              "  <svg xmlns=\"http://www.w3.org/2000/svg\" height=\"24px\"viewBox=\"0 0 24 24\"\n",
              "       width=\"24px\">\n",
              "    <path d=\"M7,19H8.4L18.45,9,17,7.55,7,17.6ZM5,21V16.75L18.45,3.32a2,2,0,0,1,2.83,0l1.4,1.43a1.91,1.91,0,0,1,.58,1.4,1.91,1.91,0,0,1-.58,1.4L9.25,21ZM18.45,9,17,7.55Zm-12,3A5.31,5.31,0,0,0,4.9,8.1,5.31,5.31,0,0,0,1,6.5,5.31,5.31,0,0,0,4.9,4.9,5.31,5.31,0,0,0,6.5,1,5.31,5.31,0,0,0,8.1,4.9,5.31,5.31,0,0,0,12,6.5,5.46,5.46,0,0,0,6.5,12Z\"/>\n",
              "  </svg>\n",
              "    </button>\n",
              "    <script>\n",
              "      (() => {\n",
              "      const buttonEl =\n",
              "        document.querySelector('#id_79bc9fef-2209-47e0-8285-8b3426b6bb69 button.colab-df-generate');\n",
              "      buttonEl.style.display =\n",
              "        google.colab.kernel.accessAllowed ? 'block' : 'none';\n",
              "\n",
              "      buttonEl.onclick = () => {\n",
              "        google.colab.notebook.generateWithVariable('df_states');\n",
              "      }\n",
              "      })();\n",
              "    </script>\n",
              "  </div>\n",
              "\n",
              "    </div>\n",
              "  </div>\n"
            ],
            "application/vnd.google.colaboratory.intrinsic+json": {
              "type": "dataframe",
              "variable_name": "df_states",
              "summary": "{\n  \"name\": \"df_states\",\n  \"rows\": 80,\n  \"fields\": [\n    {\n      \"column\": \"t\",\n      \"properties\": {\n        \"dtype\": \"number\",\n        \"std\": 2.32379000772445,\n        \"min\": 0.0,\n        \"max\": 7.9,\n        \"num_unique_values\": 80,\n        \"samples\": [\n          3.0,\n          0.0,\n          2.2\n        ],\n        \"semantic_type\": \"\",\n        \"description\": \"\"\n      }\n    },\n    {\n      \"column\": \"theta\",\n      \"properties\": {\n        \"dtype\": \"number\",\n        \"std\": 0.26241214633995125,\n        \"min\": -0.5694305999179501,\n        \"max\": 0.5146911724556248,\n        \"num_unique_values\": 80,\n        \"samples\": [\n          0.2667460378066923,\n          0.0,\n          -0.22091027898066978\n        ],\n        \"semantic_type\": \"\",\n        \"description\": \"\"\n      }\n    },\n    {\n      \"column\": \"theta_dot\",\n      \"properties\": {\n        \"dtype\": \"number\",\n        \"std\": 0.9101646498787213,\n        \"min\": -2.9217493355167603,\n        \"max\": 4.616294648409061,\n        \"num_unique_values\": 80,\n        \"samples\": [\n          0.4108645126310438,\n          0.0,\n          0.5120686633625064\n        ],\n        \"semantic_type\": \"\",\n        \"description\": \"\"\n      }\n    },\n    {\n      \"column\": \"x\",\n      \"properties\": {\n        \"dtype\": \"number\",\n        \"std\": 0.7011450004737354,\n        \"min\": -1.0000215688740124,\n        \"max\": 1.0,\n        \"num_unique_values\": 80,\n        \"samples\": [\n          0.8090737818797025,\n          1.0,\n          -0.5359044043246252\n        ],\n        \"semantic_type\": \"\",\n        \"description\": \"\"\n      }\n    },\n    {\n      \"column\": \"x_dot\",\n      \"properties\": {\n        \"dtype\": \"number\",\n        \"std\": 1.339436574835487,\n        \"min\": -1.9296414743494048,\n        \"max\": 1.8852673865604606,\n        \"num_unique_values\": 80,\n        \"samples\": [\n          1.1081276749114308,\n          0.0,\n          1.5914185010113415\n        ],\n        \"semantic_type\": \"\",\n        \"description\": \"\"\n      }\n    },\n    {\n      \"column\": \"z\",\n      \"properties\": {\n        \"dtype\": \"number\",\n        \"std\": 0.20032562411134996,\n        \"min\": 0.20063156995283488,\n        \"max\": 0.7994708470487222,\n        \"num_unique_values\": 80,\n        \"samples\": [\n          0.3236774960756225,\n          0.5,\n          0.6104964076273587\n        ],\n        \"semantic_type\": \"\",\n        \"description\": \"\"\n      }\n    },\n    {\n      \"column\": \"z_dot\",\n      \"properties\": {\n        \"dtype\": \"number\",\n        \"std\": 0.2740328452574947,\n        \"min\": -0.40898849439930524,\n        \"max\": 0.5075457964233732,\n        \"num_unique_values\": 80,\n        \"samples\": [\n          -0.3059113253024702,\n          0.0,\n          -0.350244928320216\n        ],\n        \"semantic_type\": \"\",\n        \"description\": \"\"\n      }\n    },\n    {\n      \"column\": \"k\",\n      \"properties\": {\n        \"dtype\": \"number\",\n        \"std\": 0.0,\n        \"min\": 1.0,\n        \"max\": 1.0,\n        \"num_unique_values\": 1,\n        \"samples\": [\n          1.0\n        ],\n        \"semantic_type\": \"\",\n        \"description\": \"\"\n      }\n    },\n    {\n      \"column\": \"j1\",\n      \"properties\": {\n        \"dtype\": \"number\",\n        \"std\": 0.3818445531406873,\n        \"min\": -1.4220241984458608,\n        \"max\": 1.8465178593636236,\n        \"num_unique_values\": 79,\n        \"samples\": [\n          -0.04912548168730532\n        ],\n        \"semantic_type\": \"\",\n        \"description\": \"\"\n      }\n    },\n    {\n      \"column\": \"j2\",\n      \"properties\": {\n        \"dtype\": \"number\",\n        \"std\": 0.7522857400939635,\n        \"min\": 9.014907204196966,\n        \"max\": 13.82744677602333,\n        \"num_unique_values\": 79,\n        \"samples\": [\n          10.52989623745947\n        ],\n        \"semantic_type\": \"\",\n        \"description\": \"\"\n      }\n    }\n  ]\n}"
            }
          },
          "metadata": {},
          "execution_count": 31
        }
      ],
      "source": [
        "df_states"
      ]
    },
    {
      "cell_type": "markdown",
      "id": "5cc0b6b1-da5e-4972-a5f2-e3dd8fb6efad",
      "metadata": {
        "id": "5cc0b6b1-da5e-4972-a5f2-e3dd8fb6efad"
      },
      "source": [
        "# Exercises\n",
        "\n",
        "1. Update the dynamics model to include air drag ($Drag = C*vel^2$, C is a combined drag coefficient, traditionally $C=1/2 \\rho C_d A$). Does this make it \"easier\" or \"harder\" to control the drone?\n",
        "2. What is the fastest you can make the drone oscillate in the x dimension?\n",
        "3. What happens if you change the `rterm` in `simulator.mpc.set_rterm(j1=1e-4, j2=1e-4)`?"
      ]
    },
    {
      "cell_type": "markdown",
      "id": "a0908296-e702-494e-8e2e-8859c2728984",
      "metadata": {
        "id": "a0908296-e702-494e-8e2e-8859c2728984"
      },
      "source": [
        "# Lessons learned and next steps\n",
        "\n",
        "### Lessons learned\n",
        "\n",
        "1. How to simulate a nonlinear dynamical system with python and odeint\n",
        "2. How to use model predictive control to drive a dynamical systems model along a desired trajectory\n",
        "3. How to format data as a pandas dataframe, and save data to disk\n",
        "\n",
        "### Next steps\n",
        "\n",
        "1. Loading saved data\n",
        "2. Making an animation\n",
        "\n",
        "### Long term next steps\n",
        "\n",
        "1. Use this model and trajectory to analyze observability and write a Kalman filter to estimate states given limited measurements."
      ]
    },
    {
      "cell_type": "code",
      "execution_count": 31,
      "id": "5743a107-975a-46f3-991c-70339099c664",
      "metadata": {
        "id": "5743a107-975a-46f3-991c-70339099c664"
      },
      "outputs": [],
      "source": []
    }
  ],
  "metadata": {
    "kernelspec": {
      "display_name": "PY38",
      "language": "python",
      "name": "py38"
    },
    "language_info": {
      "codemirror_mode": {
        "name": "ipython",
        "version": 3
      },
      "file_extension": ".py",
      "mimetype": "text/x-python",
      "name": "python",
      "nbconvert_exporter": "python",
      "pygments_lexer": "ipython3",
      "version": "3.8.6"
    },
    "colab": {
      "provenance": []
    }
  },
  "nbformat": 4,
  "nbformat_minor": 5
}